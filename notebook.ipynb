{
 "cells": [
  {
   "metadata": {},
   "cell_type": "markdown",
   "source": "<center><img src=\"redpopcorn.jpg\"></center>",
   "id": "8e78d2989672cc1f"
  },
  {
   "metadata": {},
   "cell_type": "markdown",
   "source": [
    "**Netflix**! What started in 1997 as a DVD rental service has since exploded into one of the largest entertainment and media companies.\n",
    "\n",
    "Given the large number of movies and series available on the platform, it is a perfect opportunity to flex your exploratory data analysis skills and dive into the entertainment industry.\n",
    "\n",
    "You work for a production company that specializes in nostalgic styles. You want to do some research on movies released in the 1990's. You'll delve into Netflix data and perform exploratory data analysis to better understand this awesome movie decade!\n",
    "\n",
    "You have been supplied with the dataset `netflix_data.csv`, along with the following table detailing the column names and descriptions. Feel free to experiment further after submitting!\n",
    "\n",
    "## The data\n",
    "### **netflix_data.csv**\n",
    "| Column         | Description                     |\n",
    "|----------------|---------------------------------|\n",
    "| `show_id`      | The ID of the show              |\n",
    "| `type`         | Type of show                    |\n",
    "| `title`        | Title of the show               |\n",
    "| `director`     | Director of the show            |\n",
    "| `cast`         | Cast of the show                |\n",
    "| `country`      | Country of origin               |\n",
    "| `date_added`   | Date added to Netflix           |\n",
    "| `release_year` | Year of Netflix release         |\n",
    "| `duration`     | Duration of the show in minutes |\n",
    "| `description`  | Description of the show         |\n",
    "| `genre`        | Show genre                      |"
   ],
   "id": "f8daf497ca93b71a"
  },
  {
   "metadata": {},
   "cell_type": "markdown",
   "source": "## Instructions",
   "id": "b337de0a1561891e"
  },
  {
   "metadata": {},
   "cell_type": "markdown",
   "source": [
    "# Exploratory Data Analysis—Netflix Movies from the 1990s\n",
    "\n",
    "## Analysis Tasks:\n",
    "\n",
    "1. Find the most common movie duration from the 1990s\n",
    "   - Use 1990 as a starting year\n",
    "   - Save result as integer variable `duration`\n",
    "\n",
    "2. Count short action movies from the 1990s\n",
    "   - Short movie defined as < 90 minutes\n",
    "   - Save count as integer variable `short_movie_count`\n"
   ],
   "id": "cf14f949b508a963"
  },
  {
   "metadata": {
    "ExecuteTime": {
     "end_time": "2025-07-27T19:10:56.354130Z",
     "start_time": "2025-07-27T19:10:55.488186Z"
    }
   },
   "cell_type": "code",
   "source": [
    "!pip install pandas\n",
    "!pip install matplotlib"
   ],
   "id": "9c3249a4cc95b6fb",
   "outputs": [
    {
     "name": "stdout",
     "output_type": "stream",
     "text": [
      "/bin/bash: warning: setlocale: LC_ALL: cannot change locale (en_US.UTF-8)\r\n",
      "Requirement already satisfied: pandas in ./.venv/lib/python3.12/site-packages (2.3.1)\r\n",
      "Requirement already satisfied: numpy>=1.26.0 in ./.venv/lib/python3.12/site-packages (from pandas) (2.3.1)\r\n",
      "Requirement already satisfied: python-dateutil>=2.8.2 in /usr/lib/python3/dist-packages (from pandas) (2.8.2)\r\n",
      "Requirement already satisfied: pytz>=2020.1 in /usr/lib/python3/dist-packages (from pandas) (2024.1)\r\n",
      "Requirement already satisfied: tzdata>=2022.7 in ./.venv/lib/python3.12/site-packages (from pandas) (2025.2)\r\n",
      "/bin/bash: warning: setlocale: LC_ALL: cannot change locale (en_US.UTF-8)\r\n",
      "Requirement already satisfied: matplotlib in ./.venv/lib/python3.12/site-packages (3.10.3)\r\n",
      "Requirement already satisfied: contourpy>=1.0.1 in ./.venv/lib/python3.12/site-packages (from matplotlib) (1.3.2)\r\n",
      "Requirement already satisfied: cycler>=0.10 in ./.venv/lib/python3.12/site-packages (from matplotlib) (0.12.1)\r\n",
      "Requirement already satisfied: fonttools>=4.22.0 in ./.venv/lib/python3.12/site-packages (from matplotlib) (4.58.5)\r\n",
      "Requirement already satisfied: kiwisolver>=1.3.1 in ./.venv/lib/python3.12/site-packages (from matplotlib) (1.4.8)\r\n",
      "Requirement already satisfied: numpy>=1.23 in ./.venv/lib/python3.12/site-packages (from matplotlib) (2.3.1)\r\n",
      "Requirement already satisfied: packaging>=20.0 in ./.venv/lib/python3.12/site-packages (from matplotlib) (25.0)\r\n",
      "Requirement already satisfied: pillow>=8 in /usr/lib/python3/dist-packages (from matplotlib) (10.2.0)\r\n",
      "Requirement already satisfied: pyparsing>=2.3.1 in /usr/lib/python3/dist-packages (from matplotlib) (3.1.1)\r\n",
      "Requirement already satisfied: python-dateutil>=2.7 in /usr/lib/python3/dist-packages (from matplotlib) (2.8.2)\r\n"
     ]
    }
   ],
   "execution_count": 2
  },
  {
   "source": [
    "import pandas as pd\n",
    "import matplotlib.pyplot as plt\n",
    "\n",
    "# Read in the Netflix CSV as a DataFrame\n",
    "netflix_df = pd.read_csv(\"netflix_data.csv\", index_col=0)"
   ],
   "metadata": {
    "executionTime": 36,
    "lastSuccessfullyExecutedCode": "# Importing pandas and matplotlib\nimport pandas as pd\nimport matplotlib.pyplot as plt\n\n# Read in the Netflix CSV as a DataFrame\nnetflix_df = pd.read_csv(\"netflix_data.csv\")",
    "executionCancelledAt": null,
    "lastExecutedAt": 1716304519424,
    "lastExecutedByKernel": "0d939945-001f-4d0d-a547-a84889cb9c27",
    "lastScheduledRunId": null,
    "ExecuteTime": {
     "end_time": "2025-07-27T19:10:56.874287Z",
     "start_time": "2025-07-27T19:10:56.370633Z"
    }
   },
   "id": "320a3abc-8a36-4b2b-baaf-473325363a4d",
   "cell_type": "code",
   "outputs": [],
   "execution_count": 3
  },
  {
   "metadata": {},
   "cell_type": "markdown",
   "source": "# Analyzing data (First contact)",
   "id": "cbbdf0b76c731894"
  },
  {
   "metadata": {},
   "cell_type": "markdown",
   "source": "## EDA - Exploratory Data Analysis",
   "id": "4b0d80838925aad4"
  },
  {
   "metadata": {
    "ExecuteTime": {
     "end_time": "2025-07-27T19:10:56.889476Z",
     "start_time": "2025-07-27T19:10:56.883300Z"
    }
   },
   "cell_type": "code",
   "source": "netflix_df.head()",
   "id": "c6e81dc346a6afc",
   "outputs": [
    {
     "data": {
      "text/plain": [
       "            type  title           director  \\\n",
       "show_id                                      \n",
       "s2         Movie   7:19  Jorge Michel Grau   \n",
       "s3         Movie  23:59       Gilbert Chan   \n",
       "s4         Movie      9        Shane Acker   \n",
       "s5         Movie     21     Robert Luketic   \n",
       "s6       TV Show     46        Serdar Akar   \n",
       "\n",
       "                                                      cast        country  \\\n",
       "show_id                                                                     \n",
       "s2       Demián Bichir, Héctor Bonilla, Oscar Serrano, ...         Mexico   \n",
       "s3       Tedd Chan, Stella Chung, Henley Hii, Lawrence ...      Singapore   \n",
       "s4       Elijah Wood, John C. Reilly, Jennifer Connelly...  United States   \n",
       "s5       Jim Sturgess, Kevin Spacey, Kate Bosworth, Aar...  United States   \n",
       "s6       Erdal Beşikçioğlu, Yasemin Allen, Melis Birkan...         Turkey   \n",
       "\n",
       "                date_added  release_year  duration  \\\n",
       "show_id                                              \n",
       "s2       December 23, 2016          2016        93   \n",
       "s3       December 20, 2018          2011        78   \n",
       "s4       November 16, 2017          2009        80   \n",
       "s5         January 1, 2020          2008       123   \n",
       "s6            July 1, 2017          2016         1   \n",
       "\n",
       "                                               description             genre  \n",
       "show_id                                                                       \n",
       "s2       After a devastating earthquake hits Mexico Cit...            Dramas  \n",
       "s3       When an army recruit is found dead, his fellow...     Horror Movies  \n",
       "s4       In a postapocalyptic world, rag-doll robots hi...            Action  \n",
       "s5       A brilliant group of students become card-coun...            Dramas  \n",
       "s6       A genetics professor experiments with a treatm...  International TV  "
      ],
      "text/html": [
       "<div>\n",
       "<style scoped>\n",
       "    .dataframe tbody tr th:only-of-type {\n",
       "        vertical-align: middle;\n",
       "    }\n",
       "\n",
       "    .dataframe tbody tr th {\n",
       "        vertical-align: top;\n",
       "    }\n",
       "\n",
       "    .dataframe thead th {\n",
       "        text-align: right;\n",
       "    }\n",
       "</style>\n",
       "<table border=\"1\" class=\"dataframe\">\n",
       "  <thead>\n",
       "    <tr style=\"text-align: right;\">\n",
       "      <th></th>\n",
       "      <th>type</th>\n",
       "      <th>title</th>\n",
       "      <th>director</th>\n",
       "      <th>cast</th>\n",
       "      <th>country</th>\n",
       "      <th>date_added</th>\n",
       "      <th>release_year</th>\n",
       "      <th>duration</th>\n",
       "      <th>description</th>\n",
       "      <th>genre</th>\n",
       "    </tr>\n",
       "    <tr>\n",
       "      <th>show_id</th>\n",
       "      <th></th>\n",
       "      <th></th>\n",
       "      <th></th>\n",
       "      <th></th>\n",
       "      <th></th>\n",
       "      <th></th>\n",
       "      <th></th>\n",
       "      <th></th>\n",
       "      <th></th>\n",
       "      <th></th>\n",
       "    </tr>\n",
       "  </thead>\n",
       "  <tbody>\n",
       "    <tr>\n",
       "      <th>s2</th>\n",
       "      <td>Movie</td>\n",
       "      <td>7:19</td>\n",
       "      <td>Jorge Michel Grau</td>\n",
       "      <td>Demián Bichir, Héctor Bonilla, Oscar Serrano, ...</td>\n",
       "      <td>Mexico</td>\n",
       "      <td>December 23, 2016</td>\n",
       "      <td>2016</td>\n",
       "      <td>93</td>\n",
       "      <td>After a devastating earthquake hits Mexico Cit...</td>\n",
       "      <td>Dramas</td>\n",
       "    </tr>\n",
       "    <tr>\n",
       "      <th>s3</th>\n",
       "      <td>Movie</td>\n",
       "      <td>23:59</td>\n",
       "      <td>Gilbert Chan</td>\n",
       "      <td>Tedd Chan, Stella Chung, Henley Hii, Lawrence ...</td>\n",
       "      <td>Singapore</td>\n",
       "      <td>December 20, 2018</td>\n",
       "      <td>2011</td>\n",
       "      <td>78</td>\n",
       "      <td>When an army recruit is found dead, his fellow...</td>\n",
       "      <td>Horror Movies</td>\n",
       "    </tr>\n",
       "    <tr>\n",
       "      <th>s4</th>\n",
       "      <td>Movie</td>\n",
       "      <td>9</td>\n",
       "      <td>Shane Acker</td>\n",
       "      <td>Elijah Wood, John C. Reilly, Jennifer Connelly...</td>\n",
       "      <td>United States</td>\n",
       "      <td>November 16, 2017</td>\n",
       "      <td>2009</td>\n",
       "      <td>80</td>\n",
       "      <td>In a postapocalyptic world, rag-doll robots hi...</td>\n",
       "      <td>Action</td>\n",
       "    </tr>\n",
       "    <tr>\n",
       "      <th>s5</th>\n",
       "      <td>Movie</td>\n",
       "      <td>21</td>\n",
       "      <td>Robert Luketic</td>\n",
       "      <td>Jim Sturgess, Kevin Spacey, Kate Bosworth, Aar...</td>\n",
       "      <td>United States</td>\n",
       "      <td>January 1, 2020</td>\n",
       "      <td>2008</td>\n",
       "      <td>123</td>\n",
       "      <td>A brilliant group of students become card-coun...</td>\n",
       "      <td>Dramas</td>\n",
       "    </tr>\n",
       "    <tr>\n",
       "      <th>s6</th>\n",
       "      <td>TV Show</td>\n",
       "      <td>46</td>\n",
       "      <td>Serdar Akar</td>\n",
       "      <td>Erdal Beşikçioğlu, Yasemin Allen, Melis Birkan...</td>\n",
       "      <td>Turkey</td>\n",
       "      <td>July 1, 2017</td>\n",
       "      <td>2016</td>\n",
       "      <td>1</td>\n",
       "      <td>A genetics professor experiments with a treatm...</td>\n",
       "      <td>International TV</td>\n",
       "    </tr>\n",
       "  </tbody>\n",
       "</table>\n",
       "</div>"
      ]
     },
     "execution_count": 4,
     "metadata": {},
     "output_type": "execute_result"
    }
   ],
   "execution_count": 4
  },
  {
   "metadata": {
    "ExecuteTime": {
     "end_time": "2025-07-27T19:10:57.003568Z",
     "start_time": "2025-07-27T19:10:57.001805Z"
    }
   },
   "cell_type": "code",
   "source": [
    "# See all dimensions\n",
    "netflix_df.shape"
   ],
   "id": "6d72c0e6f52b91df",
   "outputs": [
    {
     "data": {
      "text/plain": [
       "(4812, 10)"
      ]
     },
     "execution_count": 5,
     "metadata": {},
     "output_type": "execute_result"
    }
   ],
   "execution_count": 5
  },
  {
   "metadata": {
    "ExecuteTime": {
     "end_time": "2025-07-27T19:10:57.052458Z",
     "start_time": "2025-07-27T19:10:57.045832Z"
    }
   },
   "cell_type": "code",
   "source": [
    "# some statistics from Netflix Dataframe\n",
    "netflix_df.describe()"
   ],
   "id": "f24c18df91e14b",
   "outputs": [
    {
     "data": {
      "text/plain": [
       "       release_year     duration\n",
       "count   4812.000000  4812.000000\n",
       "mean    2012.711554    99.566708\n",
       "std        9.517978    30.889305\n",
       "min     1942.000000     1.000000\n",
       "25%     2011.000000    88.000000\n",
       "50%     2016.000000    99.000000\n",
       "75%     2018.000000   116.000000\n",
       "max     2021.000000   253.000000"
      ],
      "text/html": [
       "<div>\n",
       "<style scoped>\n",
       "    .dataframe tbody tr th:only-of-type {\n",
       "        vertical-align: middle;\n",
       "    }\n",
       "\n",
       "    .dataframe tbody tr th {\n",
       "        vertical-align: top;\n",
       "    }\n",
       "\n",
       "    .dataframe thead th {\n",
       "        text-align: right;\n",
       "    }\n",
       "</style>\n",
       "<table border=\"1\" class=\"dataframe\">\n",
       "  <thead>\n",
       "    <tr style=\"text-align: right;\">\n",
       "      <th></th>\n",
       "      <th>release_year</th>\n",
       "      <th>duration</th>\n",
       "    </tr>\n",
       "  </thead>\n",
       "  <tbody>\n",
       "    <tr>\n",
       "      <th>count</th>\n",
       "      <td>4812.000000</td>\n",
       "      <td>4812.000000</td>\n",
       "    </tr>\n",
       "    <tr>\n",
       "      <th>mean</th>\n",
       "      <td>2012.711554</td>\n",
       "      <td>99.566708</td>\n",
       "    </tr>\n",
       "    <tr>\n",
       "      <th>std</th>\n",
       "      <td>9.517978</td>\n",
       "      <td>30.889305</td>\n",
       "    </tr>\n",
       "    <tr>\n",
       "      <th>min</th>\n",
       "      <td>1942.000000</td>\n",
       "      <td>1.000000</td>\n",
       "    </tr>\n",
       "    <tr>\n",
       "      <th>25%</th>\n",
       "      <td>2011.000000</td>\n",
       "      <td>88.000000</td>\n",
       "    </tr>\n",
       "    <tr>\n",
       "      <th>50%</th>\n",
       "      <td>2016.000000</td>\n",
       "      <td>99.000000</td>\n",
       "    </tr>\n",
       "    <tr>\n",
       "      <th>75%</th>\n",
       "      <td>2018.000000</td>\n",
       "      <td>116.000000</td>\n",
       "    </tr>\n",
       "    <tr>\n",
       "      <th>max</th>\n",
       "      <td>2021.000000</td>\n",
       "      <td>253.000000</td>\n",
       "    </tr>\n",
       "  </tbody>\n",
       "</table>\n",
       "</div>"
      ]
     },
     "execution_count": 6,
     "metadata": {},
     "output_type": "execute_result"
    }
   ],
   "execution_count": 6
  },
  {
   "metadata": {},
   "cell_type": "markdown",
   "source": "### Understanding data distribution",
   "id": "616238abca96c9c7"
  },
  {
   "metadata": {
    "ExecuteTime": {
     "end_time": "2025-07-27T19:10:57.199498Z",
     "start_time": "2025-07-27T19:10:57.117237Z"
    }
   },
   "cell_type": "code",
   "source": [
    "# Netflix distribution of release year\n",
    "plt.figure(figsize=(10, 6))\n",
    "plt.hist(netflix_df['release_year'], bins=30, alpha=0.7, edgecolor='black')\n",
    "plt.title(\"Netflix distribution of release year\")\n",
    "plt.xlabel(\"Release Year\")\n",
    "plt.ylabel(\"Frequency\")\n",
    "plt.show()"
   ],
   "id": "e4f019381de7422e",
   "outputs": [
    {
     "data": {
      "text/plain": [
       "<Figure size 1000x600 with 1 Axes>"
      ],
      "image/png": "[encoded data removed]"
     },
     "metadata": {},
     "output_type": "display_data"
    }
   ],
   "execution_count": 7
  },
  {
   "metadata": {
    "ExecuteTime": {
     "end_time": "2025-07-27T19:10:57.257440Z",
     "start_time": "2025-07-27T19:10:57.255280Z"
    }
   },
   "cell_type": "code",
   "source": [
    "# All data types from Dataframe\n",
    "netflix_df.dtypes"
   ],
   "id": "ef67ec64e7e6845c",
   "outputs": [
    {
     "data": {
      "text/plain": [
       "type            object\n",
       "title           object\n",
       "director        object\n",
       "cast            object\n",
       "country         object\n",
       "date_added      object\n",
       "release_year     int64\n",
       "duration         int64\n",
       "description     object\n",
       "genre           object\n",
       "dtype: object"
      ]
     },
     "execution_count": 8,
     "metadata": {},
     "output_type": "execute_result"
    }
   ],
   "execution_count": 8
  },
  {
   "metadata": {
    "ExecuteTime": {
     "end_time": "2025-07-27T19:15:24.205838Z",
     "start_time": "2025-07-27T19:15:24.147648Z"
    }
   },
   "cell_type": "code",
   "source": [
    "# Check if is NaN\n",
    "null_values = netflix_df.isna().sum()\n",
    "# Plot graphic for a better view\n",
    "plt.figure(figsize=(10, 6))\n",
    "null_values.plot(kind='bar', xlabel='Column', ylabel='Number of NaNs', title='Number of NaNs per Column')\n",
    "plt.show()"
   ],
   "id": "f13d988d428742c0",
   "outputs": [
    {
     "data": {
      "text/plain": [
       "<Figure size 1000x600 with 1 Axes>"
      ],
      "image/png": "[encoded data removed]"
     },
     "metadata": {},
     "output_type": "display_data"
    }
   ],
   "execution_count": 18
  },
  {
   "metadata": {
    "ExecuteTime": {
     "end_time": "2025-07-27T19:10:57.489447Z",
     "start_time": "2025-07-27T19:10:57.485596Z"
    }
   },
   "cell_type": "code",
   "source": [
    "# select only the column release year\n",
    "only_col_release_year = netflix_df.loc[:, [\"release_year\"]]\n",
    "\n",
    "# show table\n",
    "only_col_release_year"
   ],
   "id": "e8f3d28281c567c1",
   "outputs": [
    {
     "data": {
      "text/plain": [
       "         release_year\n",
       "show_id              \n",
       "s2               2016\n",
       "s3               2011\n",
       "s4               2009\n",
       "s5               2008\n",
       "s6               2016\n",
       "...               ...\n",
       "s7779            2009\n",
       "s7781            2018\n",
       "s7782            2006\n",
       "s7783            2005\n",
       "s7784            2015\n",
       "\n",
       "[4812 rows x 1 columns]"
      ],
      "text/html": [
       "<div>\n",
       "<style scoped>\n",
       "    .dataframe tbody tr th:only-of-type {\n",
       "        vertical-align: middle;\n",
       "    }\n",
       "\n",
       "    .dataframe tbody tr th {\n",
       "        vertical-align: top;\n",
       "    }\n",
       "\n",
       "    .dataframe thead th {\n",
       "        text-align: right;\n",
       "    }\n",
       "</style>\n",
       "<table border=\"1\" class=\"dataframe\">\n",
       "  <thead>\n",
       "    <tr style=\"text-align: right;\">\n",
       "      <th></th>\n",
       "      <th>release_year</th>\n",
       "    </tr>\n",
       "    <tr>\n",
       "      <th>show_id</th>\n",
       "      <th></th>\n",
       "    </tr>\n",
       "  </thead>\n",
       "  <tbody>\n",
       "    <tr>\n",
       "      <th>s2</th>\n",
       "      <td>2016</td>\n",
       "    </tr>\n",
       "    <tr>\n",
       "      <th>s3</th>\n",
       "      <td>2011</td>\n",
       "    </tr>\n",
       "    <tr>\n",
       "      <th>s4</th>\n",
       "      <td>2009</td>\n",
       "    </tr>\n",
       "    <tr>\n",
       "      <th>s5</th>\n",
       "      <td>2008</td>\n",
       "    </tr>\n",
       "    <tr>\n",
       "      <th>s6</th>\n",
       "      <td>2016</td>\n",
       "    </tr>\n",
       "    <tr>\n",
       "      <th>...</th>\n",
       "      <td>...</td>\n",
       "    </tr>\n",
       "    <tr>\n",
       "      <th>s7779</th>\n",
       "      <td>2009</td>\n",
       "    </tr>\n",
       "    <tr>\n",
       "      <th>s7781</th>\n",
       "      <td>2018</td>\n",
       "    </tr>\n",
       "    <tr>\n",
       "      <th>s7782</th>\n",
       "      <td>2006</td>\n",
       "    </tr>\n",
       "    <tr>\n",
       "      <th>s7783</th>\n",
       "      <td>2005</td>\n",
       "    </tr>\n",
       "    <tr>\n",
       "      <th>s7784</th>\n",
       "      <td>2015</td>\n",
       "    </tr>\n",
       "  </tbody>\n",
       "</table>\n",
       "<p>4812 rows × 1 columns</p>\n",
       "</div>"
      ]
     },
     "execution_count": 10,
     "metadata": {},
     "output_type": "execute_result"
    }
   ],
   "execution_count": 10
  },
  {
   "metadata": {
    "ExecuteTime": {
     "end_time": "2025-07-27T19:10:57.571611Z",
     "start_time": "2025-07-27T19:10:57.566192Z"
    }
   },
   "cell_type": "code",
   "source": [
    "# select only 90's movies\n",
    "movies = netflix_df.loc[(netflix_df['release_year'] >= 1990) &(netflix_df['release_year'] < 2000) & (netflix_df['type'] == 'Movie')]\n",
    "# verifying the type of obj\n",
    "type(movies)\n",
    "\n",
    "# show table\n",
    "movies\n"
   ],
   "id": "50baa57b020dbe3e",
   "outputs": [
    {
     "data": {
      "text/plain": [
       "          type                            title            director  \\\n",
       "show_id                                                               \n",
       "s8       Movie                              187      Kevin Reynolds   \n",
       "s167     Movie                A Dangerous Woman  Stephen Gyllenhaal   \n",
       "s211     Movie           A Night at the Roxbury    John Fortenberry   \n",
       "s239     Movie  A Thin Line Between Love & Hate     Martin Lawrence   \n",
       "s274     Movie                     Aashik Awara         Umesh Mehra   \n",
       "...        ...                              ...                 ...   \n",
       "s7536    Movie                      West Beirut        Ziad Doueiri   \n",
       "s7571    Movie      What's Eating Gilbert Grape     Lasse Hallström   \n",
       "s7624    Movie                   Wild Wild West    Barry Sonnenfeld   \n",
       "s7682    Movie                       Wyatt Earp     Lawrence Kasdan   \n",
       "s7695    Movie                      Yaar Gaddar         Umesh Mehra   \n",
       "\n",
       "                                                      cast        country  \\\n",
       "show_id                                                                     \n",
       "s8       Samuel L. Jackson, John Heard, Kelly Rowan, Cl...  United States   \n",
       "s167     Debra Winger, Barbara Hershey, Gabriel Byrne, ...  United States   \n",
       "s211     Will Ferrell, Chris Kattan, Dan Hedaya, Molly ...  United States   \n",
       "s239     Martin Lawrence, Lynn Whitfield, Regina King, ...  United States   \n",
       "s274     Saif Ali Khan, Mamta Kulkarni, Mohnish Bahl, S...          India   \n",
       "...                                                    ...            ...   \n",
       "s7536    Rami Doueiri, Mohamad Chamas, Rola Al Amin, Ca...         France   \n",
       "s7571    Johnny Depp, Leonardo DiCaprio, Juliette Lewis...  United States   \n",
       "s7624    Will Smith, Kevin Kline, Kenneth Branagh, Salm...  United States   \n",
       "s7682    Kevin Costner, Dennis Quaid, Gene Hackman, Dav...  United States   \n",
       "s7695    Mithun Chakraborty, Saif Ali Khan, Somy Ali, P...          India   \n",
       "\n",
       "               date_added  release_year  duration  \\\n",
       "show_id                                             \n",
       "s8       November 1, 2019          1997       119   \n",
       "s167        April 1, 2018          1993       101   \n",
       "s211     December 1, 2019          1998        82   \n",
       "s239     December 1, 2020          1996       108   \n",
       "s274         June 1, 2017          1993       154   \n",
       "...                   ...           ...       ...   \n",
       "s7536    October 19, 2020          1999       106   \n",
       "s7571     January 1, 2021          1993       118   \n",
       "s7624     January 1, 2020          1999       106   \n",
       "s7682     January 1, 2020          1994       191   \n",
       "s7695        July 1, 2017          1994       148   \n",
       "\n",
       "                                               description           genre  \n",
       "show_id                                                                     \n",
       "s8       After one of his high school students attacks ...          Dramas  \n",
       "s167     At the center of this engrossing melodrama is ...          Dramas  \n",
       "s211     After a run-in with Richard Grieco, dimwits Do...        Comedies  \n",
       "s239     When a philandering club promoter sets out to ...        Comedies  \n",
       "s274     Raised by a kindly thief, orphaned Jimmy goes ...          Dramas  \n",
       "...                                                    ...             ...  \n",
       "s7536    Three intrepid teens roam the streets of Beiru...          Dramas  \n",
       "s7571    In a backwater Iowa town, young Gilbert is tor...  Classic Movies  \n",
       "s7624    Armed with an ingenious arsenal, two top-notch...          Action  \n",
       "s7682    Legendary lawman Wyatt Earp is continually at ...          Action  \n",
       "s7695    When his brother becomes involved in a deadly ...          Dramas  \n",
       "\n",
       "[183 rows x 10 columns]"
      ],
      "text/html": [
       "<div>\n",
       "<style scoped>\n",
       "    .dataframe tbody tr th:only-of-type {\n",
       "        vertical-align: middle;\n",
       "    }\n",
       "\n",
       "    .dataframe tbody tr th {\n",
       "        vertical-align: top;\n",
       "    }\n",
       "\n",
       "    .dataframe thead th {\n",
       "        text-align: right;\n",
       "    }\n",
       "</style>\n",
       "<table border=\"1\" class=\"dataframe\">\n",
       "  <thead>\n",
       "    <tr style=\"text-align: right;\">\n",
       "      <th></th>\n",
       "      <th>type</th>\n",
       "      <th>title</th>\n",
       "      <th>director</th>\n",
       "      <th>cast</th>\n",
       "      <th>country</th>\n",
       "      <th>date_added</th>\n",
       "      <th>release_year</th>\n",
       "      <th>duration</th>\n",
       "      <th>description</th>\n",
       "      <th>genre</th>\n",
       "    </tr>\n",
       "    <tr>\n",
       "      <th>show_id</th>\n",
       "      <th></th>\n",
       "      <th></th>\n",
       "      <th></th>\n",
       "      <th></th>\n",
       "      <th></th>\n",
       "      <th></th>\n",
       "      <th></th>\n",
       "      <th></th>\n",
       "      <th></th>\n",
       "      <th></th>\n",
       "    </tr>\n",
       "  </thead>\n",
       "  <tbody>\n",
       "    <tr>\n",
       "      <th>s8</th>\n",
       "      <td>Movie</td>\n",
       "      <td>187</td>\n",
       "      <td>Kevin Reynolds</td>\n",
       "      <td>Samuel L. Jackson, John Heard, Kelly Rowan, Cl...</td>\n",
       "      <td>United States</td>\n",
       "      <td>November 1, 2019</td>\n",
       "      <td>1997</td>\n",
       "      <td>119</td>\n",
       "      <td>After one of his high school students attacks ...</td>\n",
       "      <td>Dramas</td>\n",
       "    </tr>\n",
       "    <tr>\n",
       "      <th>s167</th>\n",
       "      <td>Movie</td>\n",
       "      <td>A Dangerous Woman</td>\n",
       "      <td>Stephen Gyllenhaal</td>\n",
       "      <td>Debra Winger, Barbara Hershey, Gabriel Byrne, ...</td>\n",
       "      <td>United States</td>\n",
       "      <td>April 1, 2018</td>\n",
       "      <td>1993</td>\n",
       "      <td>101</td>\n",
       "      <td>At the center of this engrossing melodrama is ...</td>\n",
       "      <td>Dramas</td>\n",
       "    </tr>\n",
       "    <tr>\n",
       "      <th>s211</th>\n",
       "      <td>Movie</td>\n",
       "      <td>A Night at the Roxbury</td>\n",
       "      <td>John Fortenberry</td>\n",
       "      <td>Will Ferrell, Chris Kattan, Dan Hedaya, Molly ...</td>\n",
       "      <td>United States</td>\n",
       "      <td>December 1, 2019</td>\n",
       "      <td>1998</td>\n",
       "      <td>82</td>\n",
       "      <td>After a run-in with Richard Grieco, dimwits Do...</td>\n",
       "      <td>Comedies</td>\n",
       "    </tr>\n",
       "    <tr>\n",
       "      <th>s239</th>\n",
       "      <td>Movie</td>\n",
       "      <td>A Thin Line Between Love &amp; Hate</td>\n",
       "      <td>Martin Lawrence</td>\n",
       "      <td>Martin Lawrence, Lynn Whitfield, Regina King, ...</td>\n",
       "      <td>United States</td>\n",
       "      <td>December 1, 2020</td>\n",
       "      <td>1996</td>\n",
       "      <td>108</td>\n",
       "      <td>When a philandering club promoter sets out to ...</td>\n",
       "      <td>Comedies</td>\n",
       "    </tr>\n",
       "    <tr>\n",
       "      <th>s274</th>\n",
       "      <td>Movie</td>\n",
       "      <td>Aashik Awara</td>\n",
       "      <td>Umesh Mehra</td>\n",
       "      <td>Saif Ali Khan, Mamta Kulkarni, Mohnish Bahl, S...</td>\n",
       "      <td>India</td>\n",
       "      <td>June 1, 2017</td>\n",
       "      <td>1993</td>\n",
       "      <td>154</td>\n",
       "      <td>Raised by a kindly thief, orphaned Jimmy goes ...</td>\n",
       "      <td>Dramas</td>\n",
       "    </tr>\n",
       "    <tr>\n",
       "      <th>...</th>\n",
       "      <td>...</td>\n",
       "      <td>...</td>\n",
       "      <td>...</td>\n",
       "      <td>...</td>\n",
       "      <td>...</td>\n",
       "      <td>...</td>\n",
       "      <td>...</td>\n",
       "      <td>...</td>\n",
       "      <td>...</td>\n",
       "      <td>...</td>\n",
       "    </tr>\n",
       "    <tr>\n",
       "      <th>s7536</th>\n",
       "      <td>Movie</td>\n",
       "      <td>West Beirut</td>\n",
       "      <td>Ziad Doueiri</td>\n",
       "      <td>Rami Doueiri, Mohamad Chamas, Rola Al Amin, Ca...</td>\n",
       "      <td>France</td>\n",
       "      <td>October 19, 2020</td>\n",
       "      <td>1999</td>\n",
       "      <td>106</td>\n",
       "      <td>Three intrepid teens roam the streets of Beiru...</td>\n",
       "      <td>Dramas</td>\n",
       "    </tr>\n",
       "    <tr>\n",
       "      <th>s7571</th>\n",
       "      <td>Movie</td>\n",
       "      <td>What's Eating Gilbert Grape</td>\n",
       "      <td>Lasse Hallström</td>\n",
       "      <td>Johnny Depp, Leonardo DiCaprio, Juliette Lewis...</td>\n",
       "      <td>United States</td>\n",
       "      <td>January 1, 2021</td>\n",
       "      <td>1993</td>\n",
       "      <td>118</td>\n",
       "      <td>In a backwater Iowa town, young Gilbert is tor...</td>\n",
       "      <td>Classic Movies</td>\n",
       "    </tr>\n",
       "    <tr>\n",
       "      <th>s7624</th>\n",
       "      <td>Movie</td>\n",
       "      <td>Wild Wild West</td>\n",
       "      <td>Barry Sonnenfeld</td>\n",
       "      <td>Will Smith, Kevin Kline, Kenneth Branagh, Salm...</td>\n",
       "      <td>United States</td>\n",
       "      <td>January 1, 2020</td>\n",
       "      <td>1999</td>\n",
       "      <td>106</td>\n",
       "      <td>Armed with an ingenious arsenal, two top-notch...</td>\n",
       "      <td>Action</td>\n",
       "    </tr>\n",
       "    <tr>\n",
       "      <th>s7682</th>\n",
       "      <td>Movie</td>\n",
       "      <td>Wyatt Earp</td>\n",
       "      <td>Lawrence Kasdan</td>\n",
       "      <td>Kevin Costner, Dennis Quaid, Gene Hackman, Dav...</td>\n",
       "      <td>United States</td>\n",
       "      <td>January 1, 2020</td>\n",
       "      <td>1994</td>\n",
       "      <td>191</td>\n",
       "      <td>Legendary lawman Wyatt Earp is continually at ...</td>\n",
       "      <td>Action</td>\n",
       "    </tr>\n",
       "    <tr>\n",
       "      <th>s7695</th>\n",
       "      <td>Movie</td>\n",
       "      <td>Yaar Gaddar</td>\n",
       "      <td>Umesh Mehra</td>\n",
       "      <td>Mithun Chakraborty, Saif Ali Khan, Somy Ali, P...</td>\n",
       "      <td>India</td>\n",
       "      <td>July 1, 2017</td>\n",
       "      <td>1994</td>\n",
       "      <td>148</td>\n",
       "      <td>When his brother becomes involved in a deadly ...</td>\n",
       "      <td>Dramas</td>\n",
       "    </tr>\n",
       "  </tbody>\n",
       "</table>\n",
       "<p>183 rows × 10 columns</p>\n",
       "</div>"
      ]
     },
     "execution_count": 11,
     "metadata": {},
     "output_type": "execute_result"
    }
   ],
   "execution_count": 11
  },
  {
   "metadata": {
    "ExecuteTime": {
     "end_time": "2025-07-27T19:15:58.509316Z",
     "start_time": "2025-07-27T19:15:58.448599Z"
    }
   },
   "cell_type": "code",
   "source": [
    "# Plot Netflix Movies duration\n",
    "plt.figure(figsize=(10, 6))\n",
    "\n",
    "plt.hist(movies['duration'], bins=50, alpha=0.7, edgecolor='black')\n",
    "plt.title(\"Netflix Movies Duration 1990s\")\n",
    "plt.xlabel(\"Duration (minutes)\")\n",
    "plt.ylabel(\"Count\")\n",
    "plt.grid(False)\n",
    "plt.show()"
   ],
   "id": "ec801c544aabeeef",
   "outputs": [
    {
     "data": {
      "text/plain": [
       "<Figure size 1000x600 with 1 Axes>"
      ],
      "image/png": "[encoded data removed]"
     },
     "metadata": {},
     "output_type": "display_data"
    }
   ],
   "execution_count": 19
  },
  {
   "metadata": {
    "ExecuteTime": {
     "end_time": "2025-07-27T19:10:57.811554Z",
     "start_time": "2025-07-27T19:10:57.809577Z"
    }
   },
   "cell_type": "code",
   "source": [
    "# get the most frequent movie duration\n",
    "median = movies['duration'].median()\n",
    "duration = int(median.item())\n",
    "print(duration)"
   ],
   "id": "f964f44e15bc0f80",
   "outputs": [
    {
     "name": "stdout",
     "output_type": "stream",
     "text": [
      "108\n"
     ]
    }
   ],
   "execution_count": 13
  },
  {
   "metadata": {
    "ExecuteTime": {
     "end_time": "2025-07-27T19:10:57.874055Z",
     "start_time": "2025-07-27T19:10:57.871630Z"
    }
   },
   "cell_type": "code",
   "source": [
    "# show the values that appear most often\n",
    "movies_duration = movies.loc[movies.duration == movies.duration.mode()[0], 'duration']\n",
    "movies_duration"
   ],
   "id": "e9cf5ffaf42a36db",
   "outputs": [
    {
     "data": {
      "text/plain": [
       "show_id\n",
       "s1003    94\n",
       "s2842    94\n",
       "s2963    94\n",
       "s4702    94\n",
       "s5698    94\n",
       "s6945    94\n",
       "s7183    94\n",
       "Name: duration, dtype: int64"
      ]
     },
     "execution_count": 14,
     "metadata": {},
     "output_type": "execute_result"
    }
   ],
   "execution_count": 14
  },
  {
   "metadata": {
    "ExecuteTime": {
     "end_time": "2025-07-27T19:16:22.877225Z",
     "start_time": "2025-07-27T19:16:22.825818Z"
    }
   },
   "cell_type": "code",
   "source": [
    "# plot the values that appear most often\n",
    "plt.figure(figsize=(10, 6))\n",
    "plt.hist(movies_duration, bins=5, alpha=0.7, edgecolor='black')\n",
    "plt.title(\"Netflix Movies Duration 1990s\")\n",
    "plt.xlabel(\"Duration (minutes)\")\n",
    "plt.ylabel(\"Count\")\n",
    "plt.show()"
   ],
   "id": "96a43fe85b9cdefb",
   "outputs": [
    {
     "data": {
      "text/plain": [
       "<Figure size 1000x600 with 1 Axes>"
      ],
      "image/png": "[encoded data removed]"
     },
     "metadata": {},
     "output_type": "display_data"
    }
   ],
   "execution_count": 20
  },
  {
   "metadata": {
    "ExecuteTime": {
     "end_time": "2025-07-27T19:10:58.020081Z",
     "start_time": "2025-07-27T19:10:58.015674Z"
    }
   },
   "cell_type": "code",
   "source": [
    "# table with short action movies from the 1990s\n",
    "movies_short = movies.loc[(movies['duration'] < 90) & (movies['genre'] == 'Action') & (movies['type'] == 'Movie')]\n",
    "movies_short"
   ],
   "id": "728fdd9c508e3a75",
   "outputs": [
    {
     "data": {
      "text/plain": [
       "          type                      title                        director  \\\n",
       "show_id                                                                     \n",
       "s2039    Movie  EVANGELION: DEATH (TRUE)²                    Hideaki Anno   \n",
       "s2708    Movie                       Hero                      Corey Yuen   \n",
       "s3718    Movie          Look Out, Officer                      Sze Yu Lau   \n",
       "s4787    Movie               Passenger 57                     Kevin Hooks   \n",
       "s5299    Movie        Rumble in the Bronx                    Stanley Tong   \n",
       "s6114    Movie        The Bare-Footed Kid                      Johnnie To   \n",
       "s6330    Movie      The End of Evangelion  Hideaki Anno, Kazuya Tsurumaki   \n",
       "\n",
       "                                                      cast        country  \\\n",
       "show_id                                                                     \n",
       "s2039    Megumi Ogata, Kotono Mitsuishi, Megumi Hayashi...          Japan   \n",
       "s2708    Takeshi Kaneshiro, Yuen Biao, Valerie Chow, Je...      Hong Kong   \n",
       "s3718    Stephen Chow, Bill Tung, Stanley Sui-Fan Fung,...      Hong Kong   \n",
       "s4787    Wesley Snipes, Bruce Payne, Tom Sizemore, Alex...  United States   \n",
       "s5299    Jackie Chan, Anita Mui, Françoise Yip, Bill Tu...      Hong Kong   \n",
       "s6114    Aaron Kwok, Lung Ti, Maggie Cheung, Chien-lien...      Hong Kong   \n",
       "s6330    Megumi Ogata, Kotono Mitsuishi, Megumi Hayashi...          Japan   \n",
       "\n",
       "               date_added  release_year  duration  \\\n",
       "show_id                                             \n",
       "s2039       June 21, 2019          1998        69   \n",
       "s2708      August 1, 2018          1997        89   \n",
       "s3718     August 16, 2018          1990        88   \n",
       "s4787     January 1, 2021          1992        84   \n",
       "s5299    November 1, 2019          1995        89   \n",
       "s6114     August 16, 2018          1993        83   \n",
       "s6330       June 21, 2019          1997        87   \n",
       "\n",
       "                                               description   genre  \n",
       "show_id                                                             \n",
       "s2039    Fifteen years after the Second Impact, apathet...  Action  \n",
       "s2708    A pugilist from Shantung struggles to rise to ...  Action  \n",
       "s3718    An officer killed on the job returns to Earth ...  Action  \n",
       "s4787    Air marshal John Cutter must stop notorious te...  Action  \n",
       "s5299    During a visit to the Bronx to help out at his...  Action  \n",
       "s6114    While working at a family friend's business, a...  Action  \n",
       "s6330    Seele orders an all-out attack on NERV, aiming...  Action  "
      ],
      "text/html": [
       "<div>\n",
       "<style scoped>\n",
       "    .dataframe tbody tr th:only-of-type {\n",
       "        vertical-align: middle;\n",
       "    }\n",
       "\n",
       "    .dataframe tbody tr th {\n",
       "        vertical-align: top;\n",
       "    }\n",
       "\n",
       "    .dataframe thead th {\n",
       "        text-align: right;\n",
       "    }\n",
       "</style>\n",
       "<table border=\"1\" class=\"dataframe\">\n",
       "  <thead>\n",
       "    <tr style=\"text-align: right;\">\n",
       "      <th></th>\n",
       "      <th>type</th>\n",
       "      <th>title</th>\n",
       "      <th>director</th>\n",
       "      <th>cast</th>\n",
       "      <th>country</th>\n",
       "      <th>date_added</th>\n",
       "      <th>release_year</th>\n",
       "      <th>duration</th>\n",
       "      <th>description</th>\n",
       "      <th>genre</th>\n",
       "    </tr>\n",
       "    <tr>\n",
       "      <th>show_id</th>\n",
       "      <th></th>\n",
       "      <th></th>\n",
       "      <th></th>\n",
       "      <th></th>\n",
       "      <th></th>\n",
       "      <th></th>\n",
       "      <th></th>\n",
       "      <th></th>\n",
       "      <th></th>\n",
       "      <th></th>\n",
       "    </tr>\n",
       "  </thead>\n",
       "  <tbody>\n",
       "    <tr>\n",
       "      <th>s2039</th>\n",
       "      <td>Movie</td>\n",
       "      <td>EVANGELION: DEATH (TRUE)²</td>\n",
       "      <td>Hideaki Anno</td>\n",
       "      <td>Megumi Ogata, Kotono Mitsuishi, Megumi Hayashi...</td>\n",
       "      <td>Japan</td>\n",
       "      <td>June 21, 2019</td>\n",
       "      <td>1998</td>\n",
       "      <td>69</td>\n",
       "      <td>Fifteen years after the Second Impact, apathet...</td>\n",
       "      <td>Action</td>\n",
       "    </tr>\n",
       "    <tr>\n",
       "      <th>s2708</th>\n",
       "      <td>Movie</td>\n",
       "      <td>Hero</td>\n",
       "      <td>Corey Yuen</td>\n",
       "      <td>Takeshi Kaneshiro, Yuen Biao, Valerie Chow, Je...</td>\n",
       "      <td>Hong Kong</td>\n",
       "      <td>August 1, 2018</td>\n",
       "      <td>1997</td>\n",
       "      <td>89</td>\n",
       "      <td>A pugilist from Shantung struggles to rise to ...</td>\n",
       "      <td>Action</td>\n",
       "    </tr>\n",
       "    <tr>\n",
       "      <th>s3718</th>\n",
       "      <td>Movie</td>\n",
       "      <td>Look Out, Officer</td>\n",
       "      <td>Sze Yu Lau</td>\n",
       "      <td>Stephen Chow, Bill Tung, Stanley Sui-Fan Fung,...</td>\n",
       "      <td>Hong Kong</td>\n",
       "      <td>August 16, 2018</td>\n",
       "      <td>1990</td>\n",
       "      <td>88</td>\n",
       "      <td>An officer killed on the job returns to Earth ...</td>\n",
       "      <td>Action</td>\n",
       "    </tr>\n",
       "    <tr>\n",
       "      <th>s4787</th>\n",
       "      <td>Movie</td>\n",
       "      <td>Passenger 57</td>\n",
       "      <td>Kevin Hooks</td>\n",
       "      <td>Wesley Snipes, Bruce Payne, Tom Sizemore, Alex...</td>\n",
       "      <td>United States</td>\n",
       "      <td>January 1, 2021</td>\n",
       "      <td>1992</td>\n",
       "      <td>84</td>\n",
       "      <td>Air marshal John Cutter must stop notorious te...</td>\n",
       "      <td>Action</td>\n",
       "    </tr>\n",
       "    <tr>\n",
       "      <th>s5299</th>\n",
       "      <td>Movie</td>\n",
       "      <td>Rumble in the Bronx</td>\n",
       "      <td>Stanley Tong</td>\n",
       "      <td>Jackie Chan, Anita Mui, Françoise Yip, Bill Tu...</td>\n",
       "      <td>Hong Kong</td>\n",
       "      <td>November 1, 2019</td>\n",
       "      <td>1995</td>\n",
       "      <td>89</td>\n",
       "      <td>During a visit to the Bronx to help out at his...</td>\n",
       "      <td>Action</td>\n",
       "    </tr>\n",
       "    <tr>\n",
       "      <th>s6114</th>\n",
       "      <td>Movie</td>\n",
       "      <td>The Bare-Footed Kid</td>\n",
       "      <td>Johnnie To</td>\n",
       "      <td>Aaron Kwok, Lung Ti, Maggie Cheung, Chien-lien...</td>\n",
       "      <td>Hong Kong</td>\n",
       "      <td>August 16, 2018</td>\n",
       "      <td>1993</td>\n",
       "      <td>83</td>\n",
       "      <td>While working at a family friend's business, a...</td>\n",
       "      <td>Action</td>\n",
       "    </tr>\n",
       "    <tr>\n",
       "      <th>s6330</th>\n",
       "      <td>Movie</td>\n",
       "      <td>The End of Evangelion</td>\n",
       "      <td>Hideaki Anno, Kazuya Tsurumaki</td>\n",
       "      <td>Megumi Ogata, Kotono Mitsuishi, Megumi Hayashi...</td>\n",
       "      <td>Japan</td>\n",
       "      <td>June 21, 2019</td>\n",
       "      <td>1997</td>\n",
       "      <td>87</td>\n",
       "      <td>Seele orders an all-out attack on NERV, aiming...</td>\n",
       "      <td>Action</td>\n",
       "    </tr>\n",
       "  </tbody>\n",
       "</table>\n",
       "</div>"
      ]
     },
     "execution_count": 16,
     "metadata": {},
     "output_type": "execute_result"
    }
   ],
   "execution_count": 16
  },
  {
   "metadata": {
    "ExecuteTime": {
     "end_time": "2025-07-27T19:10:58.127760Z",
     "start_time": "2025-07-27T19:10:58.126298Z"
    }
   },
   "cell_type": "code",
   "source": [
    "# count short action movies from the 1990s\n",
    "short_movie_count = len(movies_short)\n",
    "print(short_movie_count)"
   ],
   "id": "3957cb568f8690b7",
   "outputs": [
    {
     "name": "stdout",
     "output_type": "stream",
     "text": [
      "7\n"
     ]
    }
   ],
   "execution_count": 17
  }
 ],
 "metadata": {
  "colab": {
   "name": "Welcome to DataCamp Workspaces.ipynb",
   "provenance": []
  },
  "kernelspec": {
   "display_name": "Python 3 (ipykernel)",
   "language": "python",
   "name": "python3"
  },
  "language_info": {
   "name": "python",
   "version": "3.10.12",
   "mimetype": "text/x-python",
   "codemirror_mode": {
    "name": "ipython",
    "version": 3
   },
   "pygments_lexer": "ipython3",
   "nbconvert_exporter": "python",
   "file_extension": ".py"
  },
  "editor": "DataLab"
 },
 "nbformat": 4,
 "nbformat_minor": 5
}
